{
 "cells": [
  {
   "cell_type": "code",
   "execution_count": 1,
   "metadata": {},
   "outputs": [
    {
     "name": "stdout",
     "output_type": "stream",
     "text": [
      "done\n"
     ]
    }
   ],
   "source": [
    "import os\n",
    "import glob\n",
    "import numpy as np\n",
    "import cv2\n",
    "from resizeimage import resizeimage\n",
    "from numpy import array\n",
    "from PIL import Image, ImageDraw, ImageFilter, ImageOps, ImageStat\n",
    "import random\n",
    "\n",
    "print('done') #importavimo klasės"
   ]
  },
  {
   "cell_type": "code",
   "execution_count": 2,
   "metadata": {},
   "outputs": [],
   "source": [
    "im_list=[]\n",
    "\n",
    "for filename in glob.glob(r'C:\\Users\\Dell\\Desktop\\smalla\\*jpg'): \n",
    "    im=Image.open(filename)\n",
    "    im_list.append(im)"
   ]
  },
  {
   "cell_type": "code",
   "execution_count": 3,
   "metadata": {},
   "outputs": [],
   "source": [
    "stat_list = []\n",
    "for i in range(0,len(im_list)):\n",
    "    im = im_list[i]\n",
    "    stat = ImageStat.Stat(im)\n",
    "    statmean = stat.mean[0]\n",
    "    stat_list.append(statmean)\n",
    "    \n",
    "stat_list.sort(key = float)\n",
    "for i in range(0,len(stat_list)):\n",
    "    print(str(stat_list[i]))\n",
    "    \n",
    "#iki 110, iki 150, iki 200, iki 250\n",
    "#kuo maziau, tuo tamsesnis paveiksliukas - 1. iki 113.2\n",
    "#195.0 sviesu\n",
    "#0 - 255\n"
   ]
  },
  {
   "cell_type": "code",
   "execution_count": 4,
   "metadata": {},
   "outputs": [
    {
     "name": "stdout",
     "output_type": "stream",
     "text": [
      "done\n"
     ]
    }
   ],
   "source": [
    "for i in range(0,len(im_list)):\n",
    "    im = im_list[i]\n",
    "    stat = ImageStat.Stat(im)\n",
    "    statmean = stat.mean[0]\n",
    "    if 113.2>statmean:\n",
    "        String_save = str(i)+'.jpg'\n",
    "        #print(String_save)\n",
    "        im_list[i].save(r'C:\\Users\\Dell\\Desktop\\dark\\drahegao'+ String_save, quality=95)\n",
    "print('done')"
   ]
  },
  {
   "cell_type": "code",
   "execution_count": 5,
   "metadata": {},
   "outputs": [
    {
     "name": "stdout",
     "output_type": "stream",
     "text": [
      "done\n"
     ]
    }
   ],
   "source": [
    "for i in range(0,len(im_list)):\n",
    "    im = im_list[i]\n",
    "    stat = ImageStat.Stat(im)\n",
    "    statmean = stat.mean[0]\n",
    "    if 190.0<statmean:\n",
    "        String_save = str(i)+'.jpg'\n",
    "        #print(String_save)\n",
    "        im_list[i].save(r'C:\\Users\\Dell\\Desktop\\white\\brahegao'+ String_save, quality=95)\n",
    "print('done')"
   ]
  },
  {
   "cell_type": "code",
   "execution_count": 6,
   "metadata": {},
   "outputs": [
    {
     "name": "stdout",
     "output_type": "stream",
     "text": [
      "done\n"
     ]
    }
   ],
   "source": [
    "for i in range(0,len(im_list)):\n",
    "    im = im_list[i]\n",
    "    stat = ImageStat.Stat(im)\n",
    "    statmean = stat.mean[0]\n",
    "    if 130.0<statmean:\n",
    "        if 170>statmean:\n",
    "            String_save = str(i)+'.jpg'\n",
    "            #print(String_save)\n",
    "            im_list[i].save(r'C:\\Users\\Dell\\Desktop\\mids\\midahegao'+ String_save, quality=95)\n",
    "print('done')"
   ]
  },
  {
   "cell_type": "code",
   "execution_count": 7,
   "metadata": {},
   "outputs": [
    {
     "name": "stdout",
     "output_type": "stream",
     "text": [
      "50\n",
      "50\n"
     ]
    }
   ],
   "source": [
    "im = Image.open(r'C:\\Users\\Dell\\Desktop\\smallAP\\smallahegao590.jpg').convert('L')\n",
    "cover = resizeimage.resize_cover(im, [50, 50], validate=False)\n",
    "arr = array(cover)#get image as array\n",
    "arr\n",
    "\n",
    "numrows = len(arr)    # 3 rows in your example\n",
    "numcols = len(arr[0]) # 2 columns in your example\n",
    "\n",
    "print(str(numrows))\n",
    "print(str(numcols))"
   ]
  },
  {
   "cell_type": "code",
   "execution_count": 8,
   "metadata": {},
   "outputs": [
    {
     "name": "stdout",
     "output_type": "stream",
     "text": [
      "done\n"
     ]
    }
   ],
   "source": [
    "im_white=[]\n",
    "im_black=[] \n",
    "im_grey=[]\n",
    "\n",
    "for filename in glob.glob(r'D:\\ForAhegaoGenerator\\light\\*.jpg'): \n",
    "    im=cv2.imread(filename) \n",
    "    im_white.append(im)\n",
    "\n",
    "for filename in glob.glob(r'D:\\ForAhegaoGenerator\\dark\\*.jpg'):\n",
    "    im=cv2.imread(filename)\n",
    "    im_black.append(im)\n",
    "\n",
    "for filename in glob.glob(r'D:\\ForAhegaoGenerator\\mids\\*.jpg'): \n",
    "    im=cv2.imread(filename) \n",
    "    im_grey.append(im)\n",
    "\n",
    "random.shuffle(im_white)\n",
    "random.shuffle(im_black)\n",
    "random.shuffle(im_grey)\n",
    "print(\"done\")"
   ]
  },
  {
   "cell_type": "code",
   "execution_count": 9,
   "metadata": {},
   "outputs": [],
   "source": [
    "def concat_tile(im_list_2d):\n",
    "    return cv2.vconcat([cv2.hconcat(im_list_h) for im_list_h in im_list_2d])"
   ]
  },
  {
   "cell_type": "code",
   "execution_count": 10,
   "metadata": {},
   "outputs": [
    {
     "name": "stdout",
     "output_type": "stream",
     "text": [
      "done\n"
     ]
    }
   ],
   "source": [
    "b = 0\n",
    "w = 0\n",
    "g = 0\n",
    "\n",
    "#ima_list = []\n",
    "ima_list= [[arr[0][0] for x in range(numrows)] for y in range(numcols)] \n",
    "\n",
    "for i in range(0,numrows):\n",
    "    for j in range(0,numcols):\n",
    "        if arr[i][j]<125:\n",
    "            ima_list[i][j] = im_black[b]\n",
    "            b=b+1\n",
    "            if b == len(im_black):\n",
    "                random.shuffle(im_black)\n",
    "                b=0\n",
    "        elif arr[i][j]>223:\n",
    "            ima_list[i][j] = im_white[w]\n",
    "            w=w+1\n",
    "            if w == len(im_white):\n",
    "                random.shuffle(im_white)\n",
    "                w=0\n",
    "        else: \n",
    "            ima_list[i][j] = im_grey[g]\n",
    "            g=g+1\n",
    "            if g == len(im_grey):\n",
    "                random.shuffle(im_grey)\n",
    "                g=0 \n",
    "                \n",
    "imagNew = concat_tile(ima_list)\n",
    "# imagNew.save(r'C:\\Users\\Dell\\Desktop\\thingything\\doneAhegao.jpg', quality=95)\n",
    "cv2.imwrite(r'D:\\ForAhegaoGenerator\\thingything\\Ahegao6.jpg',imagNew)\n",
    "\n",
    "print('done')"
   ]
  },
  {
   "cell_type": "code",
   "execution_count": 36,
   "metadata": {},
   "outputs": [
    {
     "data": {
      "text/plain": [
       "array([[[255, 255, 255],\n",
       "        [255, 255, 255],\n",
       "        [255, 255, 255],\n",
       "        ...,\n",
       "        [236, 236, 236],\n",
       "        [244, 244, 244],\n",
       "        [251, 251, 251]],\n",
       "\n",
       "       [[253, 253, 253],\n",
       "        [245, 245, 245],\n",
       "        [216, 216, 216],\n",
       "        ...,\n",
       "        [250, 250, 250],\n",
       "        [255, 255, 255],\n",
       "        [255, 255, 255]],\n",
       "\n",
       "       [[250, 250, 250],\n",
       "        [213, 213, 213],\n",
       "        [210, 210, 210],\n",
       "        ...,\n",
       "        [253, 253, 253],\n",
       "        [255, 255, 255],\n",
       "        [255, 255, 255]],\n",
       "\n",
       "       ...,\n",
       "\n",
       "       [[255, 255, 255],\n",
       "        [255, 255, 255],\n",
       "        [255, 255, 255],\n",
       "        ...,\n",
       "        [255, 255, 255],\n",
       "        [255, 255, 255],\n",
       "        [255, 255, 255]],\n",
       "\n",
       "       [[255, 255, 255],\n",
       "        [255, 255, 255],\n",
       "        [255, 255, 255],\n",
       "        ...,\n",
       "        [255, 255, 255],\n",
       "        [255, 255, 255],\n",
       "        [255, 255, 255]],\n",
       "\n",
       "       [[255, 255, 255],\n",
       "        [255, 255, 255],\n",
       "        [255, 255, 255],\n",
       "        ...,\n",
       "        [255, 255, 255],\n",
       "        [255, 255, 255],\n",
       "        [255, 255, 255]]], dtype=uint8)"
      ]
     },
     "execution_count": 36,
     "metadata": {},
     "output_type": "execute_result"
    }
   ],
   "source": []
  }
 ],
 "metadata": {
  "kernelspec": {
   "display_name": "Python 3",
   "language": "python",
   "name": "python3"
  },
  "language_info": {
   "codemirror_mode": {
    "name": "ipython",
    "version": 3
   },
   "file_extension": ".py",
   "mimetype": "text/x-python",
   "name": "python",
   "nbconvert_exporter": "python",
   "pygments_lexer": "ipython3",
   "version": "3.7.7"
  }
 },
 "nbformat": 4,
 "nbformat_minor": 4
}
