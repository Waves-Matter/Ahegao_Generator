{
 "cells": [
  {
   "cell_type": "code",
   "execution_count": 2,
   "metadata": {},
   "outputs": [
    {
     "name": "stdout",
     "output_type": "stream",
     "text": [
      "done\n"
     ]
    }
   ],
   "source": [
    "import os\n",
    "import glob\n",
    "import numpy as np\n",
    "import cv2\n",
    "from resizeimage import resizeimage\n",
    "\n",
    "from PIL import Image, ImageDraw, ImageFilter, ImageOps\n",
    "\n",
    "print('done')"
   ]
  },
  {
   "cell_type": "code",
   "execution_count": 68,
   "metadata": {},
   "outputs": [],
   "source": [
    "im = Image.open(r'C:\\Users\\Dell\\Desktop\\Ahegao1\\004-cg56zyz.jpg')"
   ]
  },
  {
   "cell_type": "code",
   "execution_count": 2,
   "metadata": {},
   "outputs": [],
   "source": [
    "def crop_center(pil_img, crop_width, crop_height): #Kad per daug negalvot tiesiog vidur5 fotk4s paimam\n",
    "    img_width, img_height = pil_img.size\n",
    "    return pil_img.crop(((img_width - crop_width) // 2,\n",
    "                         (img_height - crop_height) // 2,\n",
    "                         (img_width + crop_width) // 2,\n",
    "                         (img_height + crop_height) // 2))"
   ]
  },
  {
   "cell_type": "code",
   "execution_count": 70,
   "metadata": {},
   "outputs": [
    {
     "name": "stdout",
     "output_type": "stream",
     "text": [
      "291 320\n",
      "291\n"
     ]
    }
   ],
   "source": [
    "#im_thumb = crop_center(im, thumb_width, thumb_width)\n",
    "#im_thumb.save('data/dst/lena_thumbnail_center_square.jpg', quality=95)\n",
    "width, height = im.size\n",
    "print(width, height)\n",
    "\n",
    "if height > width:\n",
    "    thumb_width = width\n",
    "else:  thumb_width = height\n",
    "    \n",
    "print(thumb_width)"
   ]
  },
  {
   "cell_type": "code",
   "execution_count": 72,
   "metadata": {},
   "outputs": [],
   "source": [
    "im_thumb = crop_center(im, thumb_width, thumb_width)\n",
    "im_thumb.save(r'C:\\Users\\Dell\\Desktop\\tfolder\\154. 08b363f52e188573149886b154fdc567.jpg', quality=95)"
   ]
  },
  {
   "cell_type": "code",
   "execution_count": 93,
   "metadata": {},
   "outputs": [
    {
     "name": "stdout",
     "output_type": "stream",
     "text": [
      "3007\n"
     ]
    }
   ],
   "source": [
    "image_list = []\n",
    "for filename in glob.glob(r'C:\\Users\\Dell\\Desktop\\Ahegao1\\*.jpg'): \n",
    "    im=Image.open(filename).convert('L')\n",
    "    image_list.append(im)\n",
    "    \n",
    "for filename in glob.glob(r'C:\\Users\\Dell\\Desktop\\Ahegao1\\*.png'): \n",
    "    im=Image.open(filename).convert('L')\n",
    "    image_list.append(im)\n",
    "    \n",
    "for filename in glob.glob(r'C:\\Users\\Dell\\Desktop\\ppsuck\\*.png'): \n",
    "    im=Image.open(filename).convert('L')\n",
    "    image_list.append(im)\n",
    "    \n",
    "for filename in glob.glob(r'C:\\Users\\Dell\\Desktop\\ppsuck\\*.jpg'): \n",
    "    im=Image.open(filename).convert('L')\n",
    "    image_list.append(im)\n",
    "    \n",
    "for filename in glob.glob(r'C:\\Users\\Dell\\Desktop\\output\\*.png'): \n",
    "    im=Image.open(filename).convert('L')\n",
    "    image_list.append(im)\n",
    "\n",
    "for filename in glob.glob(r'C:\\Users\\Dell\\Desktop\\output\\*.jpg'): \n",
    "    im=Image.open(filename).convert('L')\n",
    "    image_list.append(im)\n",
    "\n",
    "print(len(image_list))"
   ]
  },
  {
   "cell_type": "code",
   "execution_count": 21,
   "metadata": {},
   "outputs": [
    {
     "name": "stdout",
     "output_type": "stream",
     "text": [
      "2983\n"
     ]
    }
   ],
   "source": [
    "image_l = []\n",
    "for filename in glob.glob(r'C:\\Users\\Dell\\Desktop\\all fotkes prafiltruotos\\*.jpg'):\n",
    "    im=Image.open(filename)\n",
    "    image_l.append(im)\n",
    "    \n",
    "    \n",
    "d=[]\n",
    "for i in range(0,len(image_l)):\n",
    "    im = image_l[i]\n",
    "    im = ImageOps.mirror(im)\n",
    "    d.append(im)\n",
    "    String_save = str(i)+'.jpg'\n",
    "    #print(String_save)\n",
    "    d[i].save(r'C:\\Users\\Dell\\Desktop\\mirror\\Mirahegao'+ String_save, quality=95)   \n",
    "print(len(d))"
   ]
  },
  {
   "cell_type": "code",
   "execution_count": 94,
   "metadata": {},
   "outputs": [
    {
     "name": "stdout",
     "output_type": "stream",
     "text": [
      "done\n"
     ]
    }
   ],
   "source": [
    "a=0\n",
    "c=[]\n",
    "for i in range(0,len(image_list)):\n",
    "    width, height = image_list[i].size\n",
    "    if height > width:\n",
    "        thumb_width = width\n",
    "    else: thumb_width = height    \n",
    "    im_thumb = crop_center(image_list[i], thumb_width, thumb_width)\n",
    "    c.append(im_thumb)\n",
    "    String_save = str(i)+'.jpg'\n",
    "    #print(String_save)\n",
    "    c[i].save(r'C:\\Users\\Dell\\Desktop\\mirror\\Mirahegao'+ String_save, quality=95)\n",
    "print('done')"
   ]
  },
  {
   "cell_type": "code",
   "execution_count": 5,
   "metadata": {},
   "outputs": [
    {
     "name": "stdout",
     "output_type": "stream",
     "text": [
      "done\n"
     ]
    }
   ],
   "source": [
    "im_list=[]\n",
    "\n",
    "for filename in glob.glob(r'C:\\Users\\Dell\\Desktop\\all fotkes prafiltruotos\\*jpg'): \n",
    "    im=Image.open(filename)\n",
    "    im_list.append(im)\n",
    "\n",
    "for filename in glob.glob(r'C:\\Users\\Dell\\Desktop\\mirror\\*.jpg'): \n",
    "    im=Image.open(filename)\n",
    "    im_list.append(im)\n",
    "\n",
    "\n",
    "for i in range(0,len(im_list)):\n",
    "    img = im_list[i]\n",
    "    cover = resizeimage.resize_cover(img, [256, 256], validate=False)\n",
    "    String_save = str(i)+'.jpg'\n",
    "    cover.save(r'C:\\Users\\Dell\\Desktop\\smalla\\smallahegao'+ String_save, quality=100)\n",
    "    \n",
    "print('done')"
   ]
  },
  {
   "cell_type": "code",
   "execution_count": 8,
   "metadata": {},
   "outputs": [
    {
     "name": "stdout",
     "output_type": "stream",
     "text": [
      "done\n"
     ]
    }
   ],
   "source": [
    "im = Image.open(r'C:\\Users\\Dell\\Desktop\\smallAp\\smallahegao2.jpg').convert('RGB')#convertuoti fotkes i rgb\n",
    "im.save(r'C:\\Users\\Dell\\Desktop\\smallAp\\asmallahegao0.jpg')\n",
    "print('done')"
   ]
  },
  {
   "cell_type": "code",
   "execution_count": 12,
   "metadata": {},
   "outputs": [
    {
     "name": "stdout",
     "output_type": "stream",
     "text": [
      "done\n"
     ]
    }
   ],
   "source": [
    "im = Image.open(r'C:\\Users\\Dell\\Desktop\\all fotkes prafiltruotos\\ahegao0.jpg')\n",
    "cover = resizeimage.resize_cover(im, [50, 50], validate=False)\n",
    "cover.save(r'C:\\Users\\Dell\\Desktop\\smallAp\\asmallahegao0.jpg')\n",
    "print('done')"
   ]
  },
  {
   "cell_type": "code",
   "execution_count": 15,
   "metadata": {},
   "outputs": [
    {
     "name": "stdout",
     "output_type": "stream",
     "text": [
      "done\n"
     ]
    }
   ],
   "source": [
    "im_list=[]\n",
    "\n",
    "for filename in glob.glob(r'C:\\Users\\Dell\\Desktop\\smallAp\\*.jpg'): \n",
    "    im=Image.open(filename).convert('RGB')\n",
    "    im_list.append(im)\n",
    "    \n",
    "for i in range(0,len(im_list)):\n",
    "    img = im_list[i]\n",
    "    cover = resizeimage.resize_cover(img, [50, 50], validate=False)\n",
    "    String_save = str(i)+'.jpg'\n",
    "    cover.save(r'C:\\Users\\Dell\\Desktop\\5050AHrgb\\smallahegao'+ String_save, quality=100)\n",
    "    \n",
    "print('done')"
   ]
  },
  {
   "cell_type": "code",
   "execution_count": null,
   "metadata": {},
   "outputs": [],
   "source": []
  }
 ],
 "metadata": {
  "kernelspec": {
   "display_name": "Python 3",
   "language": "python",
   "name": "python3"
  },
  "language_info": {
   "codemirror_mode": {
    "name": "ipython",
    "version": 3
   },
   "file_extension": ".py",
   "mimetype": "text/x-python",
   "name": "python",
   "nbconvert_exporter": "python",
   "pygments_lexer": "ipython3",
   "version": "3.7.7"
  }
 },
 "nbformat": 4,
 "nbformat_minor": 4
}
